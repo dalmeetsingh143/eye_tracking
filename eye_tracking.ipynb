{
 "cells": [
  {
   "cell_type": "code",
   "execution_count": 3,
   "id": "0c2f8c47",
   "metadata": {},
   "outputs": [],
   "source": [
    "import cv2\n",
    "import numpy as np\n",
    "import pyautogui\n",
    "import time"
   ]
  },
  {
   "cell_type": "code",
   "execution_count": 5,
   "id": "ea747db9",
   "metadata": {},
   "outputs": [],
   "source": [
    "# Load the Haar cascades for face and eye detection\n",
    "face_cascade = cv2.CascadeClassifier(cv2.data.haarcascades + 'haarcascade_frontalface_default.xml')\n",
    "eye_cascade = cv2.CascadeClassifier(cv2.data.haarcascades + 'haarcascade_eye.xml')"
   ]
  },
  {
   "cell_type": "code",
   "execution_count": null,
   "id": "fcd7af39-3859-4696-be2f-62357da58bec",
   "metadata": {},
   "outputs": [],
   "source": [
    "# Initialize the webcam\n",
    "cap = cv2.VideoCapture(0)\n",
    "\n",
    "# Get screen dimensions\n",
    "screen_width, screen_height = pyautogui.size()\n",
    "\n",
    "def move_mouse(x, y):\n",
    "    pyautogui.moveTo(x, y)\n",
    "\n",
    "def get_eye_center(eyes, frame_width, frame_height):\n",
    "    # Assuming the first detected eye is used for cursor control\n",
    "    for (ex, ey, ew, eh) in eyes:\n",
    "        eye_center_x = ex + ew // 2\n",
    "        eye_center_y = ey + eh // 2\n",
    "        return eye_center_x, eye_center_y\n",
    "    return None, None\n",
    "\n",
    "# Variables for smoothing\n",
    "previous_x, previous_y = 0, 0\n",
    "smoothing_factor = 0.2\n",
    "\n",
    "while True:\n",
    "    ret, frame = cap.read()\n",
    "    if not ret:\n",
    "        break\n",
    "\n",
    "    gray = cv2.cvtColor(frame, cv2.COLOR_BGR2GRAY)\n",
    "    faces = face_cascade.detectMultiScale(gray, 1.3, 5)\n",
    "    for (x, y, w, h) in faces:\n",
    "        roi_gray = gray[y:y+h, x:x+w]\n",
    "        roi_color = frame[y:y+h, x:x+w]\n",
    "\n",
    "        eyes = eye_cascade.detectMultiScale(roi_gray)\n",
    "        eye_center_x, eye_center_y = get_eye_center(eyes, frame.shape[1], frame.shape[0])\n",
    "        \n",
    "        if eye_center_x is not None and eye_center_y is not None:\n",
    "            # Map the eye position to screen coordinates\n",
    "            screen_x = int((eye_center_x + x) / frame.shape[1] * screen_width)\n",
    "            screen_y = int((eye_center_y + y) / frame.shape[0] * screen_height)\n",
    "            \n",
    "            # Apply smoothing\n",
    "            smooth_x = int(previous_x * (1 - smoothing_factor) + screen_x * smoothing_factor)\n",
    "            smooth_y = int(previous_y * (1 - smoothing_factor) + screen_y * smoothing_factor)\n",
    "            \n",
    "            # Move the mouse to the smoothed coordinates\n",
    "            move_mouse(smooth_x, smooth_y)\n",
    "            \n",
    "            # Update previous coordinates\n",
    "            previous_x, previous_y = smooth_x, smooth_y\n",
    "\n",
    "            # Draw rectangles around detected eyes for debugging\n",
    "            for (ex, ey, ew, eh) in eyes:\n",
    "                cv2.rectangle(roi_color, (ex, ey), (ex + ew, ey + eh), (0, 255, 0), 2)\n",
    "\n",
    "    # Display the frame for debugging\n",
    "    cv2.imshow('Eye Tracking', frame)\n",
    "\n",
    "    # Break the loop on 'q' key press\n",
    "    if cv2.waitKey(1) & 0xFF == ord('q'):\n",
    "        break\n",
    "\n",
    "cap.release()\n",
    "cv2.destroyAllWindows()"
   ]
  },
  {
   "cell_type": "code",
   "execution_count": null,
   "id": "a9d1e1b8-4155-4c43-9775-b6d98a2d92fa",
   "metadata": {},
   "outputs": [],
   "source": []
  }
 ],
 "metadata": {
  "kernelspec": {
   "display_name": "Python 3 (ipykernel)",
   "language": "python",
   "name": "python3"
  },
  "language_info": {
   "codemirror_mode": {
    "name": "ipython",
    "version": 3
   },
   "file_extension": ".py",
   "mimetype": "text/x-python",
   "name": "python",
   "nbconvert_exporter": "python",
   "pygments_lexer": "ipython3",
   "version": "3.11.8"
  }
 },
 "nbformat": 4,
 "nbformat_minor": 5
}
